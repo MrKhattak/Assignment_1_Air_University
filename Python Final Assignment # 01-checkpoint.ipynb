{
 "cells": [
  {
   "cell_type": "markdown",
   "metadata": {},
   "source": [
    "# Assignment # 01:"
   ]
  },
  {
   "cell_type": "markdown",
   "metadata": {},
   "source": [
    "### <b>Submitted By:</b>    <b>Waqar Ahmad Khattak</b>"
   ]
  },
  {
   "cell_type": "markdown",
   "metadata": {},
   "source": [
    "<b>Q1:</b> Write a program to read an input from a file (name book.txt). Make sure to read the paragraph or lines from the input file in list or dictionary. After reading the file, you have to perform tokenization, which is process that splits the sentences into words. Next, remove the stopwords (“a”,”the”,…) from the tokens, stopword file is attached with the document. Finally, compute the frequency of each word and display it on the console.\n",
    "\n",
    "\n",
    "<b>Input:</b> Danish is a good student, he is studying in Kamyab Jawan program.\n",
    "\n",
    "<b>Ouput:</b> {Danish:1, good:1, student:1,…..}\n"
   ]
  },
  {
   "cell_type": "markdown",
   "metadata": {},
   "source": [
    "<b>Solution:</b>"
   ]
  },
  {
   "cell_type": "code",
   "execution_count": 4,
   "metadata": {},
   "outputs": [
    {
     "name": "stderr",
     "output_type": "stream",
     "text": [
      "[nltk_data] Downloading package punkt to C:\\Users\\Awais\n",
      "[nltk_data]     Ahmed\\AppData\\Roaming\\nltk_data...\n",
      "[nltk_data]   Package punkt is already up-to-date!\n"
     ]
    },
    {
     "data": {
      "text/plain": [
       "True"
      ]
     },
     "execution_count": 4,
     "metadata": {},
     "output_type": "execute_result"
    }
   ],
   "source": [
    "import nltk\n",
    "nltk.download('punkt')"
   ]
  },
  {
   "cell_type": "code",
   "execution_count": 5,
   "metadata": {},
   "outputs": [
    {
     "name": "stdout",
     "output_type": "stream",
     "text": [
      "Danish is a good student, and he is studying in the Kamyab Jawan program.\n",
      "['Danish', 'is', 'a', 'good', 'student', ',', 'and', 'he', 'is', 'studying', 'in', 'the', 'Kamyab', 'Jawan', 'program', '.']\n"
     ]
    }
   ],
   "source": [
    "from nltk.tokenize import sent_tokenize\n",
    "from nltk.tokenize import word_tokenize\n",
    "\n",
    "text = open(\"book.txt\",\"r\")\n",
    "message = text.read()\n",
    "\n",
    "word_tokens = word_tokenize(message)\n",
    "\n",
    "print(message)\n",
    "print(word_tokens)\n"
   ]
  },
  {
   "cell_type": "code",
   "execution_count": 6,
   "metadata": {},
   "outputs": [
    {
     "name": "stderr",
     "output_type": "stream",
     "text": [
      "[nltk_data] Downloading package stopwords to C:\\Users\\Awais\n",
      "[nltk_data]     Ahmed\\AppData\\Roaming\\nltk_data...\n",
      "[nltk_data]   Package stopwords is already up-to-date!\n"
     ]
    }
   ],
   "source": [
    "import nltk\n",
    "nltk.download('stopwords')\n",
    "from nltk.corpus import stopwords"
   ]
  },
  {
   "cell_type": "code",
   "execution_count": 7,
   "metadata": {
    "scrolled": true
   },
   "outputs": [
    {
     "name": "stdout",
     "output_type": "stream",
     "text": [
      "['Danish', 'is', 'a', 'good', 'student', ',', 'and', 'he', 'is', 'studying', 'in', 'the', 'Kamyab', 'Jawan', 'program', '.']\n",
      "\n",
      "After Removing Stopwords\n",
      "\n",
      "['Danish', 'good', 'student', ',', 'studying', 'Kamyab', 'Jawan', 'program', '.']\n"
     ]
    }
   ],
   "source": [
    "from nltk.corpus import stopwords\n",
    "from nltk.tokenize import word_tokenize\n",
    "\n",
    "text = open(\"book.txt\",\"r\")\n",
    "message = text.read()\n",
    "\n",
    "stop_words = set(stopwords.words('english')) \n",
    "\n",
    "word_tokens = word_tokenize(message) \n",
    "\n",
    "filtered_sentence = [w for w in word_tokens if not w in stop_words] \n",
    "\n",
    "filtered_sentence = [] \n",
    "\n",
    "for w in word_tokens: \n",
    "    if w not in stop_words: \n",
    "        filtered_sentence.append(w) \n",
    "\n",
    "print(word_tokens) \n",
    "print(\"\\nAfter Removing Stopwords\\n\")\n",
    "print(filtered_sentence) \n"
   ]
  },
  {
   "cell_type": "code",
   "execution_count": 8,
   "metadata": {},
   "outputs": [
    {
     "name": "stdout",
     "output_type": "stream",
     "text": [
      "Reading from text File:\n",
      " Danish is a good student, and he is studying in the Kamyab Jawan program.\n",
      "\n",
      "\n",
      "List After Removing Stopwords\n",
      "['Danish', 'good', 'student', ',', 'studying', 'Kamyab', 'Jawan', 'program', '.']\n",
      "\n",
      " Computing Frequencies\n",
      "[('Danish', 1), ('good', 1), ('student', 1), (',', 1), ('studying', 1), ('Kamyab', 1), ('Jawan', 1), ('program', 1), ('.', 1)]\n"
     ]
    }
   ],
   "source": [
    "words_freq = []\n",
    "for w in filtered_sentence:\n",
    "    words_freq.append(filtered_sentence.count(w))\n",
    "\n",
    "print(\"Reading from text File:\\n\",message)\n",
    "print(\"\\n\")\n",
    "print(\"List After Removing Stopwords\\n\" + str(filtered_sentence) + \"\\n\")\n",
    "print(\" Computing Frequencies\\n\" + str(list(zip(filtered_sentence, words_freq))))"
   ]
  },
  {
   "cell_type": "markdown",
   "metadata": {},
   "source": [
    "<hr>"
   ]
  },
  {
   "cell_type": "markdown",
   "metadata": {},
   "source": [
    "<b>Q2:</b> Exercise Question 4: Create a function showEmployee() in such a way that it should accept employee name, and it’s salary and display both, and if the salary is missing in function call it should show it as 9000\n",
    "\n",
    "<b>Expected Output:</b>\n",
    "\n",
    "showEmployee(\"Ben\", 9000)showEmployee(\"Ben\")\n",
    "\n",
    "<b>Should Produce:</b>\n",
    "\n",
    "Employee Ben salary is: 9000 Employee Ben salary is: 9000"
   ]
  },
  {
   "cell_type": "markdown",
   "metadata": {},
   "source": [
    "<b>Solution:</b>"
   ]
  },
  {
   "cell_type": "code",
   "execution_count": 18,
   "metadata": {},
   "outputs": [
    {
     "name": "stdout",
     "output_type": "stream",
     "text": [
      "Enter Employee name or enter quit to quit the program:Waqar\n",
      "salary:5000000\n",
      "Enter Employee name or enter quit to quit the program:Waq\n",
      "salary:\n",
      "Enter Employee name or enter quit to quit the program:quit\n",
      "Employee Waqar salary is: 5000000\n",
      "Employee Waq salary is: 9000\n"
     ]
    }
   ],
   "source": [
    "employee_name=list()\n",
    "employee_salary=list()\n",
    "\n",
    "#function showEmployee()\n",
    "def showEmployee(employee_name,employee_salary=9000): #default value of employee_salary=9000\n",
    "    while True:\n",
    "        employee=input(\"Enter Employee name or enter quit to quit the program:\")\n",
    "        if employee=='quit':\n",
    "            break\n",
    "        else:\n",
    "#             emp_salary=float(input(\"salary:\"))\n",
    "            emp_salary=input(\"salary:\")\n",
    "            employee_name.append(employee)\n",
    "            if emp_salary==\"\":\n",
    "                employee_salary.append(9000)\n",
    "            else:\n",
    "                employee_salary.append(emp_salary)\n",
    "    \n",
    "    return employee_name,employee_salary\n",
    "        \n",
    "employee_name,employee_salary = showEmployee(employee_name,employee_salary)\n",
    "for i in range(len(employee_name)):\n",
    "    print('Employee',employee_name[i],'salary is:',employee_salary[i])\n"
   ]
  },
  {
   "cell_type": "markdown",
   "metadata": {},
   "source": [
    "<hr>"
   ]
  },
  {
   "cell_type": "markdown",
   "metadata": {},
   "source": [
    "<b>Q3:</b> Write a <b>recursive function</b> to calculate the sum of numbers from 0 to 10.    \n",
    "<b>Expected Output:</b>  55"
   ]
  },
  {
   "cell_type": "markdown",
   "metadata": {},
   "source": [
    "<b>Solution:</b>"
   ]
  },
  {
   "cell_type": "code",
   "execution_count": 19,
   "metadata": {
    "scrolled": true
   },
   "outputs": [
    {
     "name": "stdout",
     "output_type": "stream",
     "text": [
      "Enter a number: 10\n",
      "The sum is:  55\n"
     ]
    }
   ],
   "source": [
    "def recursive_function(num):\n",
    "    while num<=1:\n",
    "        return num\n",
    "    if num>1:\n",
    "        return num + recursive_function(num-1)\n",
    " \n",
    "enter_no = int(input(\"Enter a number: \"))\n",
    "print(\"The sum is: \", recursive_function(enter_no))"
   ]
  },
  {
   "cell_type": "markdown",
   "metadata": {},
   "source": [
    "<hr>"
   ]
  },
  {
   "cell_type": "markdown",
   "metadata": {},
   "source": [
    "<b>Q4:</b> Write a program which accepts a sequence of comma-separated numbers from console and generate a list and a tuple which contains every number.\n",
    "\n",
    "<b>Suppose the following input is supplied to the program:</b>\n",
    "34,67,55,33,12,98\n",
    "\n",
    "<b>Output:</b>\n",
    "[34,67,55,33,12,98]"
   ]
  },
  {
   "cell_type": "code",
   "execution_count": 20,
   "metadata": {
    "scrolled": true
   },
   "outputs": [
    {
     "name": "stdout",
     "output_type": "stream",
     "text": [
      "Enter comma-separated numbers:34,67,55,33,12,98\n",
      "List :  ['34,67,55,33,12,98']\n",
      "Tuple :  ('34,67,55,33,12,98',)\n"
     ]
    }
   ],
   "source": [
    "numbers=input(\"Enter comma-separated numbers:\")\n",
    "lst = numbers.split()\n",
    "tpl = tuple(lst)\n",
    "print('List : ',lst)\n",
    "print('Tuple : ',tpl)"
   ]
  },
  {
   "cell_type": "markdown",
   "metadata": {},
   "source": [
    "<hr>"
   ]
  }
 ],
 "metadata": {
  "kernelspec": {
   "display_name": "Python 3",
   "language": "python",
   "name": "python3"
  },
  "language_info": {
   "codemirror_mode": {
    "name": "ipython",
    "version": 3
   },
   "file_extension": ".py",
   "mimetype": "text/x-python",
   "name": "python",
   "nbconvert_exporter": "python",
   "pygments_lexer": "ipython3",
   "version": "3.7.3"
  }
 },
 "nbformat": 4,
 "nbformat_minor": 2
}
